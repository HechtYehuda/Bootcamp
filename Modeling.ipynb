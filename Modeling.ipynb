{
 "cells": [
  {
   "cell_type": "code",
   "execution_count": 1,
   "metadata": {},
   "outputs": [],
   "source": [
    "import pandas as pd\n",
    "import numpy as np\n",
    "import matplotlib.pyplot as plt\n",
    "import seaborn as sns\n",
    "%matplotlib inline\n",
    "import datetime as dt\n",
    "import scipy.stats as stats\n",
    "from sklearn.model_selection import train_test_split\n",
    "from sklearn.linear_model import LogisticRegression\n",
    "from sklearn.metrics import f1_score"
   ]
  },
  {
   "cell_type": "code",
   "execution_count": 2,
   "metadata": {
    "scrolled": false
   },
   "outputs": [
    {
     "data": {
      "text/html": [
       "<div>\n",
       "<style scoped>\n",
       "    .dataframe tbody tr th:only-of-type {\n",
       "        vertical-align: middle;\n",
       "    }\n",
       "\n",
       "    .dataframe tbody tr th {\n",
       "        vertical-align: top;\n",
       "    }\n",
       "\n",
       "    .dataframe thead th {\n",
       "        text-align: right;\n",
       "    }\n",
       "</style>\n",
       "<table border=\"1\" class=\"dataframe\">\n",
       "  <thead>\n",
       "    <tr style=\"text-align: right;\">\n",
       "      <th></th>\n",
       "      <th>Unnamed: 0</th>\n",
       "      <th>CRASH DATE</th>\n",
       "      <th>CRASH TIME</th>\n",
       "      <th>BOROUGH</th>\n",
       "      <th>ZIP CODE</th>\n",
       "      <th>LATITUDE</th>\n",
       "      <th>LONGITUDE</th>\n",
       "      <th>LOCATION</th>\n",
       "      <th>ON STREET NAME</th>\n",
       "      <th>CROSS STREET NAME</th>\n",
       "      <th>...</th>\n",
       "      <th>DISTANCE FROM MADISON SQUARE GARDEN</th>\n",
       "      <th>DISTANCE FROM PORT AUTHORITY</th>\n",
       "      <th>DISTANCE FROM GRAND ARMY PLAZA</th>\n",
       "      <th>DISTANCE FROM TRIBECA</th>\n",
       "      <th>DISTANCE FROM BATTERY PARK</th>\n",
       "      <th>DISTANCE FROM SOHO</th>\n",
       "      <th>DISTANCE FROM CONEY ISLAND</th>\n",
       "      <th>DAYS FROM NEW YEARS</th>\n",
       "      <th>DAYS FROM CHRISTMAS</th>\n",
       "      <th>DAYS FROM JULY 4</th>\n",
       "    </tr>\n",
       "  </thead>\n",
       "  <tbody>\n",
       "    <tr>\n",
       "      <th>0</th>\n",
       "      <td>0</td>\n",
       "      <td>2017-06-26 00:00:00</td>\n",
       "      <td>2020-09-22 22:00:00</td>\n",
       "      <td>MANHATTAN</td>\n",
       "      <td>10002.0</td>\n",
       "      <td>40.718270</td>\n",
       "      <td>-73.99072</td>\n",
       "      <td>POINT (-73.99072 40.71827)</td>\n",
       "      <td>ALLEN STREET</td>\n",
       "      <td>BROOME STREET</td>\n",
       "      <td>...</td>\n",
       "      <td>0.032134</td>\n",
       "      <td>0.038880</td>\n",
       "      <td>0.051023</td>\n",
       "      <td>0.017988</td>\n",
       "      <td>0.029482</td>\n",
       "      <td>0.013270</td>\n",
       "      <td>0.144167</td>\n",
       "      <td>176 days</td>\n",
       "      <td>-182 days</td>\n",
       "      <td>-8 days</td>\n",
       "    </tr>\n",
       "    <tr>\n",
       "      <th>1</th>\n",
       "      <td>1</td>\n",
       "      <td>2017-07-14 00:00:00</td>\n",
       "      <td>2020-09-22 13:17:00</td>\n",
       "      <td>NaN</td>\n",
       "      <td>10028.0</td>\n",
       "      <td>40.783180</td>\n",
       "      <td>-73.94362</td>\n",
       "      <td>POINT (-73.94362 40.78318)</td>\n",
       "      <td>FDR DRIVE</td>\n",
       "      <td>NaN</td>\n",
       "      <td>...</td>\n",
       "      <td>0.059596</td>\n",
       "      <td>0.054004</td>\n",
       "      <td>0.113396</td>\n",
       "      <td>0.093249</td>\n",
       "      <td>0.107943</td>\n",
       "      <td>0.084330</td>\n",
       "      <td>0.209438</td>\n",
       "      <td>194 days</td>\n",
       "      <td>-164 days</td>\n",
       "      <td>10 days</td>\n",
       "    </tr>\n",
       "    <tr>\n",
       "      <th>2</th>\n",
       "      <td>2</td>\n",
       "      <td>2017-07-04 00:00:00</td>\n",
       "      <td>2020-09-22 14:00:00</td>\n",
       "      <td>BRONX</td>\n",
       "      <td>10462.0</td>\n",
       "      <td>40.833557</td>\n",
       "      <td>-73.85774</td>\n",
       "      <td>POINT (-73.85774 40.833557)</td>\n",
       "      <td>WESTCHESTER AVENUE</td>\n",
       "      <td>PUGSLEY AVENUE</td>\n",
       "      <td>...</td>\n",
       "      <td>0.159107</td>\n",
       "      <td>0.153556</td>\n",
       "      <td>0.195316</td>\n",
       "      <td>0.191071</td>\n",
       "      <td>0.205098</td>\n",
       "      <td>0.182365</td>\n",
       "      <td>0.281697</td>\n",
       "      <td>184 days</td>\n",
       "      <td>-174 days</td>\n",
       "      <td>0 days</td>\n",
       "    </tr>\n",
       "    <tr>\n",
       "      <th>3</th>\n",
       "      <td>3</td>\n",
       "      <td>2017-07-17 00:00:00</td>\n",
       "      <td>2020-09-22 21:03:00</td>\n",
       "      <td>MANHATTAN</td>\n",
       "      <td>10032.0</td>\n",
       "      <td>40.833843</td>\n",
       "      <td>-73.94851</td>\n",
       "      <td>POINT (-73.94851 40.833843)</td>\n",
       "      <td>RIVERSIDE DRIVE</td>\n",
       "      <td>WEST 155 STREET</td>\n",
       "      <td>...</td>\n",
       "      <td>0.094805</td>\n",
       "      <td>0.087647</td>\n",
       "      <td>0.162559</td>\n",
       "      <td>0.132012</td>\n",
       "      <td>0.147135</td>\n",
       "      <td>0.123243</td>\n",
       "      <td>0.259294</td>\n",
       "      <td>197 days</td>\n",
       "      <td>-161 days</td>\n",
       "      <td>13 days</td>\n",
       "    </tr>\n",
       "    <tr>\n",
       "      <th>4</th>\n",
       "      <td>4</td>\n",
       "      <td>2017-06-26 00:00:00</td>\n",
       "      <td>2020-09-22 15:35:00</td>\n",
       "      <td>BROOKLYN</td>\n",
       "      <td>11203.0</td>\n",
       "      <td>40.654434</td>\n",
       "      <td>-73.92139</td>\n",
       "      <td>POINT (-73.92139 40.654434)</td>\n",
       "      <td>REMSEN AVENUE</td>\n",
       "      <td>LINDEN BOULEVARD</td>\n",
       "      <td>...</td>\n",
       "      <td>0.119852</td>\n",
       "      <td>0.124044</td>\n",
       "      <td>0.050176</td>\n",
       "      <td>0.106925</td>\n",
       "      <td>0.106393</td>\n",
       "      <td>0.106784</td>\n",
       "      <td>0.093070</td>\n",
       "      <td>176 days</td>\n",
       "      <td>-182 days</td>\n",
       "      <td>-8 days</td>\n",
       "    </tr>\n",
       "  </tbody>\n",
       "</table>\n",
       "<p>5 rows × 55 columns</p>\n",
       "</div>"
      ],
      "text/plain": [
       "   Unnamed: 0           CRASH DATE           CRASH TIME    BOROUGH  ZIP CODE  \\\n",
       "0           0  2017-06-26 00:00:00  2020-09-22 22:00:00  MANHATTAN   10002.0   \n",
       "1           1  2017-07-14 00:00:00  2020-09-22 13:17:00        NaN   10028.0   \n",
       "2           2  2017-07-04 00:00:00  2020-09-22 14:00:00      BRONX   10462.0   \n",
       "3           3  2017-07-17 00:00:00  2020-09-22 21:03:00  MANHATTAN   10032.0   \n",
       "4           4  2017-06-26 00:00:00  2020-09-22 15:35:00   BROOKLYN   11203.0   \n",
       "\n",
       "    LATITUDE  LONGITUDE                     LOCATION  \\\n",
       "0  40.718270  -73.99072   POINT (-73.99072 40.71827)   \n",
       "1  40.783180  -73.94362   POINT (-73.94362 40.78318)   \n",
       "2  40.833557  -73.85774  POINT (-73.85774 40.833557)   \n",
       "3  40.833843  -73.94851  POINT (-73.94851 40.833843)   \n",
       "4  40.654434  -73.92139  POINT (-73.92139 40.654434)   \n",
       "\n",
       "                     ON STREET NAME CROSS STREET NAME  ...  \\\n",
       "0  ALLEN STREET                         BROOME STREET  ...   \n",
       "1  FDR DRIVE                                      NaN  ...   \n",
       "2  WESTCHESTER AVENUE                  PUGSLEY AVENUE  ...   \n",
       "3  RIVERSIDE DRIVE                    WEST 155 STREET  ...   \n",
       "4  REMSEN AVENUE                     LINDEN BOULEVARD  ...   \n",
       "\n",
       "  DISTANCE FROM MADISON SQUARE GARDEN  DISTANCE FROM PORT AUTHORITY  \\\n",
       "0                            0.032134                      0.038880   \n",
       "1                            0.059596                      0.054004   \n",
       "2                            0.159107                      0.153556   \n",
       "3                            0.094805                      0.087647   \n",
       "4                            0.119852                      0.124044   \n",
       "\n",
       "   DISTANCE FROM GRAND ARMY PLAZA  DISTANCE FROM TRIBECA  \\\n",
       "0                        0.051023               0.017988   \n",
       "1                        0.113396               0.093249   \n",
       "2                        0.195316               0.191071   \n",
       "3                        0.162559               0.132012   \n",
       "4                        0.050176               0.106925   \n",
       "\n",
       "   DISTANCE FROM BATTERY PARK  DISTANCE FROM SOHO  DISTANCE FROM CONEY ISLAND  \\\n",
       "0                    0.029482            0.013270                    0.144167   \n",
       "1                    0.107943            0.084330                    0.209438   \n",
       "2                    0.205098            0.182365                    0.281697   \n",
       "3                    0.147135            0.123243                    0.259294   \n",
       "4                    0.106393            0.106784                    0.093070   \n",
       "\n",
       "   DAYS FROM NEW YEARS  DAYS FROM CHRISTMAS DAYS FROM JULY 4  \n",
       "0             176 days            -182 days          -8 days  \n",
       "1             194 days            -164 days          10 days  \n",
       "2             184 days            -174 days           0 days  \n",
       "3             197 days            -161 days          13 days  \n",
       "4             176 days            -182 days          -8 days  \n",
       "\n",
       "[5 rows x 55 columns]"
      ]
     },
     "execution_count": 2,
     "metadata": {},
     "output_type": "execute_result"
    }
   ],
   "source": [
    "data_path = r'data/clean_df.csv.gz'\n",
    "df_import = pd.read_csv(data_path, parse_dates=True)# index_col=0)\n",
    "df_import.head()"
   ]
  },
  {
   "cell_type": "code",
   "execution_count": 3,
   "metadata": {},
   "outputs": [],
   "source": [
    "df = df_import.copy()"
   ]
  },
  {
   "cell_type": "code",
   "execution_count": 4,
   "metadata": {},
   "outputs": [
    {
     "data": {
      "text/html": [
       "<div>\n",
       "<style scoped>\n",
       "    .dataframe tbody tr th:only-of-type {\n",
       "        vertical-align: middle;\n",
       "    }\n",
       "\n",
       "    .dataframe tbody tr th {\n",
       "        vertical-align: top;\n",
       "    }\n",
       "\n",
       "    .dataframe thead th {\n",
       "        text-align: right;\n",
       "    }\n",
       "</style>\n",
       "<table border=\"1\" class=\"dataframe\">\n",
       "  <thead>\n",
       "    <tr style=\"text-align: right;\">\n",
       "      <th></th>\n",
       "      <th>TOTAL PEDESTRIAN CASUALTIES</th>\n",
       "      <th>CASUALTIES?</th>\n",
       "    </tr>\n",
       "  </thead>\n",
       "  <tbody>\n",
       "    <tr>\n",
       "      <th>857565</th>\n",
       "      <td>0</td>\n",
       "      <td>0</td>\n",
       "    </tr>\n",
       "    <tr>\n",
       "      <th>884961</th>\n",
       "      <td>0</td>\n",
       "      <td>0</td>\n",
       "    </tr>\n",
       "    <tr>\n",
       "      <th>654363</th>\n",
       "      <td>0</td>\n",
       "      <td>0</td>\n",
       "    </tr>\n",
       "    <tr>\n",
       "      <th>1049000</th>\n",
       "      <td>0</td>\n",
       "      <td>0</td>\n",
       "    </tr>\n",
       "    <tr>\n",
       "      <th>1477999</th>\n",
       "      <td>0</td>\n",
       "      <td>0</td>\n",
       "    </tr>\n",
       "  </tbody>\n",
       "</table>\n",
       "</div>"
      ],
      "text/plain": [
       "         TOTAL PEDESTRIAN CASUALTIES  CASUALTIES?\n",
       "857565                             0            0\n",
       "884961                             0            0\n",
       "654363                             0            0\n",
       "1049000                            0            0\n",
       "1477999                            0            0"
      ]
     },
     "execution_count": 4,
     "metadata": {},
     "output_type": "execute_result"
    }
   ],
   "source": [
    "df['CASUALTIES?'] = 0\n",
    "mask = df['TOTAL PEDESTRIAN CASUALTIES'] != 0\n",
    "df.loc[mask, 'CASUALTIES?'] = 1\n",
    "df.loc[df['TOTAL PEDESTRIAN CASUALTIES'] != 1, ['TOTAL PEDESTRIAN CASUALTIES','CASUALTIES?']].sample(5)"
   ]
  },
  {
   "cell_type": "code",
   "execution_count": 5,
   "metadata": {
    "scrolled": false
   },
   "outputs": [
    {
     "name": "stdout",
     "output_type": "stream",
     "text": [
      "<class 'pandas.core.frame.DataFrame'>\n",
      "RangeIndex: 1486656 entries, 0 to 1486655\n",
      "Data columns (total 56 columns):\n",
      " #   Column                               Non-Null Count    Dtype  \n",
      "---  ------                               --------------    -----  \n",
      " 0   Unnamed: 0                           1486656 non-null  int64  \n",
      " 1   CRASH DATE                           1486656 non-null  object \n",
      " 2   CRASH TIME                           1486656 non-null  object \n",
      " 3   BOROUGH                              1143388 non-null  object \n",
      " 4   ZIP CODE                             1486656 non-null  float64\n",
      " 5   LATITUDE                             1486656 non-null  float64\n",
      " 6   LONGITUDE                            1486656 non-null  float64\n",
      " 7   LOCATION                             1486656 non-null  object \n",
      " 8   ON STREET NAME                       1203377 non-null  object \n",
      " 9   CROSS STREET NAME                    980930 non-null   object \n",
      " 10  OFF STREET NAME                      221574 non-null   object \n",
      " 11  NUMBER OF PERSONS INJURED            1486641 non-null  float64\n",
      " 12  NUMBER OF PERSONS KILLED             1486628 non-null  float64\n",
      " 13  NUMBER OF PEDESTRIANS INJURED        1486656 non-null  int64  \n",
      " 14  NUMBER OF PEDESTRIANS KILLED         1486656 non-null  int64  \n",
      " 15  NUMBER OF CYCLIST INJURED            1486656 non-null  int64  \n",
      " 16  NUMBER OF CYCLIST KILLED             1486656 non-null  int64  \n",
      " 17  NUMBER OF MOTORIST INJURED           1486656 non-null  int64  \n",
      " 18  NUMBER OF MOTORIST KILLED            1486656 non-null  int64  \n",
      " 19  CONTRIBUTING FACTOR VEHICLE 1        1482544 non-null  object \n",
      " 20  CONTRIBUTING FACTOR VEHICLE 2        1278001 non-null  object \n",
      " 21  CONTRIBUTING FACTOR VEHICLE 3        96924 non-null    object \n",
      " 22  CONTRIBUTING FACTOR VEHICLE 4        20662 non-null    object \n",
      " 23  CONTRIBUTING FACTOR VEHICLE 5        5402 non-null     object \n",
      " 24  COLLISION_ID                         1486656 non-null  int64  \n",
      " 25  VEHICLE TYPE CODE 1                  1479080 non-null  object \n",
      " 26  VEHICLE TYPE CODE 2                  1244692 non-null  object \n",
      " 27  VEHICLE TYPE CODE 3                  94475 non-null    object \n",
      " 28  VEHICLE TYPE CODE 4                  20111 non-null    object \n",
      " 29  VEHICLE TYPE CODE 5                  5262 non-null     object \n",
      " 30  RUSH HOUR                            1486656 non-null  int64  \n",
      " 31  SEASON                               1486656 non-null  object \n",
      " 32  SUNRISE                              1486656 non-null  object \n",
      " 33  SUNSET                               1486656 non-null  object \n",
      " 34  DURING DAYTIME                       1486656 non-null  int64  \n",
      " 35  TOTAL PEDESTRIAN CASUALTIES          1486656 non-null  int64  \n",
      " 36  WEEKDAY                              1486656 non-null  object \n",
      " 37  WEEKEND                              1486656 non-null  int64  \n",
      " 38  DISTANCE FROM TIMES SQUARE           1486656 non-null  float64\n",
      " 39  DISTANCE FROM CENTRAL PARK           1486656 non-null  float64\n",
      " 40  DISTANCE FROM FIFTH AVE              1486656 non-null  float64\n",
      " 41  DISTANCE FROM GRAND CENTRAL STATION  1486656 non-null  float64\n",
      " 42  DISTANCE FROM BRONX ZOO              1486656 non-null  float64\n",
      " 43  DISTANCE FROM COLUMBUS CIRCLE        1486656 non-null  float64\n",
      " 44  DISTANCE FROM UNION SQUARE           1486656 non-null  float64\n",
      " 45  DISTANCE FROM MADISON SQUARE GARDEN  1486656 non-null  float64\n",
      " 46  DISTANCE FROM PORT AUTHORITY         1486656 non-null  float64\n",
      " 47  DISTANCE FROM GRAND ARMY PLAZA       1486656 non-null  float64\n",
      " 48  DISTANCE FROM TRIBECA                1486656 non-null  float64\n",
      " 49  DISTANCE FROM BATTERY PARK           1486656 non-null  float64\n",
      " 50  DISTANCE FROM SOHO                   1486656 non-null  float64\n",
      " 51  DISTANCE FROM CONEY ISLAND           1486656 non-null  float64\n",
      " 52  DAYS FROM NEW YEARS                  1486656 non-null  object \n",
      " 53  DAYS FROM CHRISTMAS                  1486656 non-null  object \n",
      " 54  DAYS FROM JULY 4                     1486656 non-null  object \n",
      " 55  CASUALTIES?                          1486656 non-null  int64  \n",
      "dtypes: float64(19), int64(13), object(24)\n",
      "memory usage: 635.2+ MB\n"
     ]
    }
   ],
   "source": [
    "df.info()"
   ]
  },
  {
   "cell_type": "code",
   "execution_count": 6,
   "metadata": {},
   "outputs": [],
   "source": [
    "def dummy_pipeline(cat_feature):\n",
    "    global df\n",
    "    global feature_names\n",
    "    if 'NUMBER' in cat_feature:\n",
    "        dummies = pd.get_dummies(df[cat_feature], prefix=cat_feature)\n",
    "    else:\n",
    "        dummies = pd.get_dummies(df[cat_feature])\n",
    "    df = df.join(dummies)\n",
    "    feature_names.extend(list(dummies.columns))\n",
    "\n",
    "def log_reg_pipeline(feature_names):\n",
    "    \n",
    "    X = df[feature_names]\n",
    "    y = df['CASUALTIES?']\n",
    "    \n",
    "    X_train, X_test, y_train, y_test = train_test_split(X, y, stratify=y, test_size=0.25, random_state=42)\n",
    "    \n",
    "    log_reg = LogisticRegression()\n",
    "    log_reg.fit(X_train, y_train)\n",
    "    y_train_pred = log_reg.predict(X_train)\n",
    "    y_test_pred = log_reg.predict(X_test)\n",
    "    \n",
    "    return log_reg, f1_score(y_train, y_train_pred), f1_score(y_test, y_test_pred)"
   ]
  },
  {
   "cell_type": "markdown",
   "metadata": {},
   "source": [
    "### Logistic regression feature development"
   ]
  },
  {
   "cell_type": "markdown",
   "metadata": {},
   "source": [
    "Notes: Create a table. Include model, training/testing error and list of feature names."
   ]
  },
  {
   "cell_type": "code",
   "execution_count": 7,
   "metadata": {},
   "outputs": [
    {
     "name": "stdout",
     "output_type": "stream",
     "text": [
      "['LATITUDE']\n"
     ]
    }
   ],
   "source": [
    "feature_names = ['LATITUDE']\n",
    "print(feature_names)"
   ]
  },
  {
   "cell_type": "code",
   "execution_count": 8,
   "metadata": {
    "scrolled": true
   },
   "outputs": [
    {
     "name": "stdout",
     "output_type": "stream",
     "text": [
      "0.0 0.0\n"
     ]
    }
   ],
   "source": [
    "log_reg_1, train_1, test_1 = log_reg_pipeline(feature_names)\n",
    "print(train_1, test_1)"
   ]
  },
  {
   "cell_type": "code",
   "execution_count": 9,
   "metadata": {},
   "outputs": [
    {
     "name": "stdout",
     "output_type": "stream",
     "text": [
      "['LATITUDE', 'LONGITUDE']\n"
     ]
    }
   ],
   "source": [
    "feature_names.append('LONGITUDE')\n",
    "print(feature_names)"
   ]
  },
  {
   "cell_type": "code",
   "execution_count": 10,
   "metadata": {},
   "outputs": [
    {
     "name": "stdout",
     "output_type": "stream",
     "text": [
      "0.0 0.0\n"
     ]
    }
   ],
   "source": [
    "log_reg_2, train_2, test_2 = log_reg_pipeline(feature_names)\n",
    "print(train_2, test_2)"
   ]
  },
  {
   "cell_type": "code",
   "execution_count": 11,
   "metadata": {},
   "outputs": [
    {
     "name": "stdout",
     "output_type": "stream",
     "text": [
      "['LATITUDE', 'LONGITUDE', 'BRONX', 'BROOKLYN', 'MANHATTAN', 'QUEENS', 'STATEN ISLAND']\n"
     ]
    }
   ],
   "source": [
    "dummy_pipeline('BOROUGH')\n",
    "print(feature_names)"
   ]
  },
  {
   "cell_type": "code",
   "execution_count": 12,
   "metadata": {
    "scrolled": false
   },
   "outputs": [
    {
     "name": "stdout",
     "output_type": "stream",
     "text": [
      "0.0 0.0\n"
     ]
    }
   ],
   "source": [
    "log_reg_3, train_3, test_3 = log_reg_pipeline(feature_names)\n",
    "print(train_3, test_3)"
   ]
  },
  {
   "cell_type": "code",
   "execution_count": 13,
   "metadata": {},
   "outputs": [
    {
     "name": "stdout",
     "output_type": "stream",
     "text": [
      "['LATITUDE', 'LONGITUDE', 'BRONX', 'BROOKLYN', 'MANHATTAN', 'QUEENS', 'STATEN ISLAND', 'fall', 'spring', 'summer', 'winter']\n"
     ]
    }
   ],
   "source": [
    "dummy_pipeline('SEASON')\n",
    "print(feature_names)"
   ]
  },
  {
   "cell_type": "code",
   "execution_count": 14,
   "metadata": {},
   "outputs": [
    {
     "name": "stdout",
     "output_type": "stream",
     "text": [
      "0.0 0.0\n"
     ]
    }
   ],
   "source": [
    "log_reg_4, train_4, test_4 = log_reg_pipeline(feature_names)\n",
    "print(train_4, test_4)"
   ]
  },
  {
   "cell_type": "code",
   "execution_count": 15,
   "metadata": {},
   "outputs": [
    {
     "name": "stdout",
     "output_type": "stream",
     "text": [
      "['LATITUDE', 'LONGITUDE', 'BRONX', 'BROOKLYN', 'MANHATTAN', 'QUEENS', 'STATEN ISLAND', 'fall', 'spring', 'summer', 'winter', 'WEEKEND']\n"
     ]
    }
   ],
   "source": [
    "feature_names.append('WEEKEND')\n",
    "print(feature_names)"
   ]
  },
  {
   "cell_type": "code",
   "execution_count": 16,
   "metadata": {},
   "outputs": [
    {
     "name": "stderr",
     "output_type": "stream",
     "text": [
      "/home/yehuda/anaconda3/lib/python3.8/site-packages/sklearn/linear_model/_logistic.py:762: ConvergenceWarning: lbfgs failed to converge (status=1):\n",
      "STOP: TOTAL NO. of ITERATIONS REACHED LIMIT.\n",
      "\n",
      "Increase the number of iterations (max_iter) or scale the data as shown in:\n",
      "    https://scikit-learn.org/stable/modules/preprocessing.html\n",
      "Please also refer to the documentation for alternative solver options:\n",
      "    https://scikit-learn.org/stable/modules/linear_model.html#logistic-regression\n",
      "  n_iter_i = _check_optimize_result(\n"
     ]
    },
    {
     "name": "stdout",
     "output_type": "stream",
     "text": [
      "0.0 0.0\n"
     ]
    }
   ],
   "source": [
    "log_reg_5, train_5, test_5 = log_reg_pipeline(feature_names)\n",
    "print(train_5, test_5)"
   ]
  },
  {
   "cell_type": "code",
   "execution_count": 17,
   "metadata": {},
   "outputs": [
    {
     "name": "stdout",
     "output_type": "stream",
     "text": [
      "['LATITUDE', 'LONGITUDE', 'BRONX', 'BROOKLYN', 'MANHATTAN', 'QUEENS', 'STATEN ISLAND', 'fall', 'spring', 'summer', 'winter', 'WEEKEND', 'DISTANCE FROM TIMES SQUARE']\n"
     ]
    }
   ],
   "source": [
    "feature_names.append('DISTANCE FROM TIMES SQUARE')\n",
    "print(feature_names)"
   ]
  },
  {
   "cell_type": "code",
   "execution_count": 18,
   "metadata": {},
   "outputs": [
    {
     "name": "stderr",
     "output_type": "stream",
     "text": [
      "/home/yehuda/anaconda3/lib/python3.8/site-packages/sklearn/linear_model/_logistic.py:762: ConvergenceWarning: lbfgs failed to converge (status=1):\n",
      "STOP: TOTAL NO. of ITERATIONS REACHED LIMIT.\n",
      "\n",
      "Increase the number of iterations (max_iter) or scale the data as shown in:\n",
      "    https://scikit-learn.org/stable/modules/preprocessing.html\n",
      "Please also refer to the documentation for alternative solver options:\n",
      "    https://scikit-learn.org/stable/modules/linear_model.html#logistic-regression\n",
      "  n_iter_i = _check_optimize_result(\n"
     ]
    },
    {
     "name": "stdout",
     "output_type": "stream",
     "text": [
      "0.0 0.0\n"
     ]
    }
   ],
   "source": [
    "log_reg_6, train_6, test_6 = log_reg_pipeline(feature_names)\n",
    "print(train_6, test_6)"
   ]
  },
  {
   "cell_type": "code",
   "execution_count": 19,
   "metadata": {},
   "outputs": [
    {
     "name": "stdout",
     "output_type": "stream",
     "text": [
      "['LATITUDE', 'LONGITUDE', 'BRONX', 'BROOKLYN', 'MANHATTAN', 'QUEENS', 'STATEN ISLAND', 'fall', 'spring', 'summer', 'winter', 'WEEKEND', 'DISTANCE FROM TIMES SQUARE', 'DISTANCE FROM CONEY ISLAND']\n"
     ]
    }
   ],
   "source": [
    "feature_names.append('DISTANCE FROM CONEY ISLAND')\n",
    "print(feature_names)"
   ]
  },
  {
   "cell_type": "code",
   "execution_count": 20,
   "metadata": {},
   "outputs": [
    {
     "name": "stderr",
     "output_type": "stream",
     "text": [
      "/home/yehuda/anaconda3/lib/python3.8/site-packages/sklearn/linear_model/_logistic.py:762: ConvergenceWarning: lbfgs failed to converge (status=1):\n",
      "STOP: TOTAL NO. of ITERATIONS REACHED LIMIT.\n",
      "\n",
      "Increase the number of iterations (max_iter) or scale the data as shown in:\n",
      "    https://scikit-learn.org/stable/modules/preprocessing.html\n",
      "Please also refer to the documentation for alternative solver options:\n",
      "    https://scikit-learn.org/stable/modules/linear_model.html#logistic-regression\n",
      "  n_iter_i = _check_optimize_result(\n"
     ]
    },
    {
     "name": "stdout",
     "output_type": "stream",
     "text": [
      "0.0 0.0\n"
     ]
    }
   ],
   "source": [
    "log_reg_7, train_7, test_7 = log_reg_pipeline(feature_names)\n",
    "print(train_7, test_7)"
   ]
  },
  {
   "cell_type": "code",
   "execution_count": 21,
   "metadata": {},
   "outputs": [
    {
     "name": "stdout",
     "output_type": "stream",
     "text": [
      "['LATITUDE', 'LONGITUDE', 'BRONX', 'BROOKLYN', 'MANHATTAN', 'QUEENS', 'STATEN ISLAND', 'fall', 'spring', 'summer', 'winter', 'WEEKEND', 'DISTANCE FROM TIMES SQUARE', 'DISTANCE FROM CONEY ISLAND', 'DURING DAYTIME']\n"
     ]
    }
   ],
   "source": [
    "feature_names.append('DURING DAYTIME')\n",
    "print(feature_names)"
   ]
  },
  {
   "cell_type": "code",
   "execution_count": 22,
   "metadata": {},
   "outputs": [
    {
     "name": "stderr",
     "output_type": "stream",
     "text": [
      "/home/yehuda/anaconda3/lib/python3.8/site-packages/sklearn/linear_model/_logistic.py:762: ConvergenceWarning: lbfgs failed to converge (status=1):\n",
      "STOP: TOTAL NO. of ITERATIONS REACHED LIMIT.\n",
      "\n",
      "Increase the number of iterations (max_iter) or scale the data as shown in:\n",
      "    https://scikit-learn.org/stable/modules/preprocessing.html\n",
      "Please also refer to the documentation for alternative solver options:\n",
      "    https://scikit-learn.org/stable/modules/linear_model.html#logistic-regression\n",
      "  n_iter_i = _check_optimize_result(\n"
     ]
    },
    {
     "name": "stdout",
     "output_type": "stream",
     "text": [
      "0.0 0.0\n"
     ]
    }
   ],
   "source": [
    "log_reg_8, train_8, test_8 = log_reg_pipeline(feature_names)\n",
    "print(train_8, test_8)"
   ]
  },
  {
   "cell_type": "code",
   "execution_count": 23,
   "metadata": {},
   "outputs": [
    {
     "name": "stdout",
     "output_type": "stream",
     "text": [
      "['LATITUDE', 'LONGITUDE', 'BRONX', 'BROOKLYN', 'MANHATTAN', 'QUEENS', 'STATEN ISLAND', 'fall', 'spring', 'summer', 'winter', 'WEEKEND', 'DISTANCE FROM TIMES SQUARE', 'DISTANCE FROM CONEY ISLAND', 'DURING DAYTIME', 'FRIDAY', 'MONDAY', 'SATURDAY', 'SUNDAY', 'THURSDAY', 'TUESDAY', 'WEDNESDAY']\n"
     ]
    }
   ],
   "source": [
    "dummy_pipeline('WEEKDAY')\n",
    "print(feature_names)"
   ]
  },
  {
   "cell_type": "code",
   "execution_count": 24,
   "metadata": {},
   "outputs": [
    {
     "name": "stderr",
     "output_type": "stream",
     "text": [
      "/home/yehuda/anaconda3/lib/python3.8/site-packages/sklearn/linear_model/_logistic.py:762: ConvergenceWarning: lbfgs failed to converge (status=1):\n",
      "STOP: TOTAL NO. of ITERATIONS REACHED LIMIT.\n",
      "\n",
      "Increase the number of iterations (max_iter) or scale the data as shown in:\n",
      "    https://scikit-learn.org/stable/modules/preprocessing.html\n",
      "Please also refer to the documentation for alternative solver options:\n",
      "    https://scikit-learn.org/stable/modules/linear_model.html#logistic-regression\n",
      "  n_iter_i = _check_optimize_result(\n"
     ]
    },
    {
     "name": "stdout",
     "output_type": "stream",
     "text": [
      "0.0 0.0\n"
     ]
    }
   ],
   "source": [
    "log_reg_9, train_9, test_9 = log_reg_pipeline(feature_names)\n",
    "print(train_9, test_9)"
   ]
  },
  {
   "cell_type": "code",
   "execution_count": 25,
   "metadata": {},
   "outputs": [
    {
     "name": "stdout",
     "output_type": "stream",
     "text": [
      "['LATITUDE', 'LONGITUDE', 'BRONX', 'BROOKLYN', 'MANHATTAN', 'QUEENS', 'STATEN ISLAND', 'fall', 'spring', 'summer', 'winter', 'WEEKEND', 'DISTANCE FROM TIMES SQUARE', 'DISTANCE FROM CONEY ISLAND', 'DURING DAYTIME', 'FRIDAY', 'MONDAY', 'SATURDAY', 'SUNDAY', 'THURSDAY', 'TUESDAY', 'WEDNESDAY', '1', '80', 'Accelerator Defective', 'Aggressive Driving/Road Rage', 'Alcohol Involvement', 'Animals Action', 'Backing Unsafely', 'Brakes Defective', 'Cell Phone (hand-Held)', 'Cell Phone (hand-held)', 'Cell Phone (hands-free)', 'Driver Inattention/Distraction', 'Driver Inexperience', 'Driverless/Runaway Vehicle', 'Drugs (Illegal)', 'Drugs (illegal)', 'Eating or Drinking', 'Failure to Keep Right', 'Failure to Yield Right-of-Way', 'Fatigued/Drowsy', 'Fell Asleep', 'Following Too Closely', 'Glare', 'Headlights Defective', 'Illnes', 'Illness', 'Lane Marking Improper/Inadequate', 'Listening/Using Headphones', 'Lost Consciousness', 'Obstruction/Debris', 'Other Electronic Device', 'Other Lighting Defects', 'Other Vehicular', 'Outside Car Distraction', 'Oversized Vehicle', 'Passenger Distraction', 'Passing Too Closely', 'Passing or Lane Usage Improper', 'Pavement Defective', 'Pavement Slippery', 'Pedestrian/Bicyclist/Other Pedestrian Error/Confusion', 'Physical Disability', 'Prescription Medication', 'Reaction to Other Uninvolved Vehicle', 'Reaction to Uninvolved Vehicle', 'Shoulders Defective/Improper', 'Steering Failure', 'Texting', 'Tinted Windows', 'Tire Failure/Inadequate', 'Tow Hitch Defective', 'Traffic Control Device Improper/Non-Working', 'Traffic Control Disregarded', 'Turning Improperly', 'Unsafe Lane Changing', 'Unsafe Speed', 'Unspecified', 'Using On Board Navigation Device', 'Vehicle Vandalism', 'View Obstructed/Limited', 'Windshield Inadequate']\n"
     ]
    }
   ],
   "source": [
    "dummy_pipeline('CONTRIBUTING FACTOR VEHICLE 1')\n",
    "print(feature_names)"
   ]
  },
  {
   "cell_type": "code",
   "execution_count": 26,
   "metadata": {},
   "outputs": [
    {
     "name": "stderr",
     "output_type": "stream",
     "text": [
      "/home/yehuda/anaconda3/lib/python3.8/site-packages/sklearn/linear_model/_logistic.py:762: ConvergenceWarning: lbfgs failed to converge (status=1):\n",
      "STOP: TOTAL NO. of ITERATIONS REACHED LIMIT.\n",
      "\n",
      "Increase the number of iterations (max_iter) or scale the data as shown in:\n",
      "    https://scikit-learn.org/stable/modules/preprocessing.html\n",
      "Please also refer to the documentation for alternative solver options:\n",
      "    https://scikit-learn.org/stable/modules/linear_model.html#logistic-regression\n",
      "  n_iter_i = _check_optimize_result(\n"
     ]
    },
    {
     "name": "stdout",
     "output_type": "stream",
     "text": [
      "0.07442334939076226 0.07331018991219114\n"
     ]
    }
   ],
   "source": [
    "log_reg_10, train_10, test_10 = log_reg_pipeline(feature_names)\n",
    "print(train_10, test_10)"
   ]
  },
  {
   "cell_type": "code",
   "execution_count": 27,
   "metadata": {},
   "outputs": [
    {
     "name": "stdout",
     "output_type": "stream",
     "text": [
      "['LATITUDE', 'LONGITUDE', 'BRONX', 'BROOKLYN', 'MANHATTAN', 'QUEENS', 'STATEN ISLAND', 'fall', 'spring', 'summer', 'winter', 'WEEKEND', 'DISTANCE FROM TIMES SQUARE', 'DISTANCE FROM CONEY ISLAND', 'DURING DAYTIME', 'FRIDAY', 'MONDAY', 'SATURDAY', 'SUNDAY', 'THURSDAY', 'TUESDAY', 'WEDNESDAY', '1', '80', 'Accelerator Defective', 'Aggressive Driving/Road Rage', 'Alcohol Involvement', 'Animals Action', 'Backing Unsafely', 'Brakes Defective', 'Cell Phone (hand-Held)', 'Cell Phone (hand-held)', 'Cell Phone (hands-free)', 'Driver Inattention/Distraction', 'Driver Inexperience', 'Driverless/Runaway Vehicle', 'Drugs (Illegal)', 'Drugs (illegal)', 'Eating or Drinking', 'Failure to Keep Right', 'Failure to Yield Right-of-Way', 'Fatigued/Drowsy', 'Fell Asleep', 'Following Too Closely', 'Glare', 'Headlights Defective', 'Illnes', 'Illness', 'Lane Marking Improper/Inadequate', 'Listening/Using Headphones', 'Lost Consciousness', 'Obstruction/Debris', 'Other Electronic Device', 'Other Lighting Defects', 'Other Vehicular', 'Outside Car Distraction', 'Oversized Vehicle', 'Passenger Distraction', 'Passing Too Closely', 'Passing or Lane Usage Improper', 'Pavement Defective', 'Pavement Slippery', 'Pedestrian/Bicyclist/Other Pedestrian Error/Confusion', 'Physical Disability', 'Prescription Medication', 'Reaction to Other Uninvolved Vehicle', 'Reaction to Uninvolved Vehicle', 'Shoulders Defective/Improper', 'Steering Failure', 'Texting', 'Tinted Windows', 'Tire Failure/Inadequate', 'Tow Hitch Defective', 'Traffic Control Device Improper/Non-Working', 'Traffic Control Disregarded', 'Turning Improperly', 'Unsafe Lane Changing', 'Unsafe Speed', 'Unspecified', 'Using On Board Navigation Device', 'Vehicle Vandalism', 'View Obstructed/Limited', 'Windshield Inadequate', 'NUMBER OF MOTORIST KILLED_0', 'NUMBER OF MOTORIST KILLED_1', 'NUMBER OF MOTORIST KILLED_2', 'NUMBER OF MOTORIST KILLED_3', 'NUMBER OF MOTORIST KILLED_4', 'NUMBER OF MOTORIST KILLED_5']\n"
     ]
    }
   ],
   "source": [
    "dummy_pipeline('NUMBER OF MOTORIST KILLED')\n",
    "print(feature_names)"
   ]
  },
  {
   "cell_type": "code",
   "execution_count": 28,
   "metadata": {},
   "outputs": [
    {
     "name": "stderr",
     "output_type": "stream",
     "text": [
      "/home/yehuda/anaconda3/lib/python3.8/site-packages/sklearn/linear_model/_logistic.py:762: ConvergenceWarning: lbfgs failed to converge (status=1):\n",
      "STOP: TOTAL NO. of ITERATIONS REACHED LIMIT.\n",
      "\n",
      "Increase the number of iterations (max_iter) or scale the data as shown in:\n",
      "    https://scikit-learn.org/stable/modules/preprocessing.html\n",
      "Please also refer to the documentation for alternative solver options:\n",
      "    https://scikit-learn.org/stable/modules/linear_model.html#logistic-regression\n",
      "  n_iter_i = _check_optimize_result(\n"
     ]
    },
    {
     "name": "stdout",
     "output_type": "stream",
     "text": [
      "0.07395385261437537 0.07300115874855156\n"
     ]
    }
   ],
   "source": [
    "log_reg_11, train_11, test_11 = log_reg_pipeline(feature_names)\n",
    "print(train_11, test_11)"
   ]
  },
  {
   "cell_type": "code",
   "execution_count": 29,
   "metadata": {},
   "outputs": [
    {
     "name": "stdout",
     "output_type": "stream",
     "text": [
      "['LATITUDE', 'LONGITUDE', 'BRONX', 'BROOKLYN', 'MANHATTAN', 'QUEENS', 'STATEN ISLAND', 'fall', 'spring', 'summer', 'winter', 'WEEKEND', 'DISTANCE FROM TIMES SQUARE', 'DISTANCE FROM CONEY ISLAND', 'DURING DAYTIME', 'FRIDAY', 'MONDAY', 'SATURDAY', 'SUNDAY', 'THURSDAY', 'TUESDAY', 'WEDNESDAY', '1', '80', 'Accelerator Defective', 'Aggressive Driving/Road Rage', 'Alcohol Involvement', 'Animals Action', 'Backing Unsafely', 'Brakes Defective', 'Cell Phone (hand-Held)', 'Cell Phone (hand-held)', 'Cell Phone (hands-free)', 'Driver Inattention/Distraction', 'Driver Inexperience', 'Driverless/Runaway Vehicle', 'Drugs (Illegal)', 'Drugs (illegal)', 'Eating or Drinking', 'Failure to Keep Right', 'Failure to Yield Right-of-Way', 'Fatigued/Drowsy', 'Fell Asleep', 'Following Too Closely', 'Glare', 'Headlights Defective', 'Illnes', 'Illness', 'Lane Marking Improper/Inadequate', 'Listening/Using Headphones', 'Lost Consciousness', 'Obstruction/Debris', 'Other Electronic Device', 'Other Lighting Defects', 'Other Vehicular', 'Outside Car Distraction', 'Oversized Vehicle', 'Passenger Distraction', 'Passing Too Closely', 'Passing or Lane Usage Improper', 'Pavement Defective', 'Pavement Slippery', 'Pedestrian/Bicyclist/Other Pedestrian Error/Confusion', 'Physical Disability', 'Prescription Medication', 'Reaction to Other Uninvolved Vehicle', 'Reaction to Uninvolved Vehicle', 'Shoulders Defective/Improper', 'Steering Failure', 'Texting', 'Tinted Windows', 'Tire Failure/Inadequate', 'Tow Hitch Defective', 'Traffic Control Device Improper/Non-Working', 'Traffic Control Disregarded', 'Turning Improperly', 'Unsafe Lane Changing', 'Unsafe Speed', 'Unspecified', 'Using On Board Navigation Device', 'Vehicle Vandalism', 'View Obstructed/Limited', 'Windshield Inadequate', 'NUMBER OF MOTORIST KILLED_0', 'NUMBER OF MOTORIST KILLED_1', 'NUMBER OF MOTORIST KILLED_2', 'NUMBER OF MOTORIST KILLED_3', 'NUMBER OF MOTORIST KILLED_4', 'NUMBER OF MOTORIST KILLED_5', 'NUMBER OF MOTORIST INJURED_0', 'NUMBER OF MOTORIST INJURED_1', 'NUMBER OF MOTORIST INJURED_2', 'NUMBER OF MOTORIST INJURED_3', 'NUMBER OF MOTORIST INJURED_4', 'NUMBER OF MOTORIST INJURED_5', 'NUMBER OF MOTORIST INJURED_6', 'NUMBER OF MOTORIST INJURED_7', 'NUMBER OF MOTORIST INJURED_8', 'NUMBER OF MOTORIST INJURED_9', 'NUMBER OF MOTORIST INJURED_10', 'NUMBER OF MOTORIST INJURED_11', 'NUMBER OF MOTORIST INJURED_12', 'NUMBER OF MOTORIST INJURED_13', 'NUMBER OF MOTORIST INJURED_14', 'NUMBER OF MOTORIST INJURED_15', 'NUMBER OF MOTORIST INJURED_16', 'NUMBER OF MOTORIST INJURED_17', 'NUMBER OF MOTORIST INJURED_18', 'NUMBER OF MOTORIST INJURED_19', 'NUMBER OF MOTORIST INJURED_20', 'NUMBER OF MOTORIST INJURED_21', 'NUMBER OF MOTORIST INJURED_22', 'NUMBER OF MOTORIST INJURED_24', 'NUMBER OF MOTORIST INJURED_30', 'NUMBER OF MOTORIST INJURED_43']\n"
     ]
    }
   ],
   "source": [
    "dummy_pipeline('NUMBER OF MOTORIST INJURED')\n",
    "print(feature_names)"
   ]
  },
  {
   "cell_type": "code",
   "execution_count": 30,
   "metadata": {},
   "outputs": [
    {
     "name": "stderr",
     "output_type": "stream",
     "text": [
      "/home/yehuda/anaconda3/lib/python3.8/site-packages/sklearn/linear_model/_logistic.py:762: ConvergenceWarning: lbfgs failed to converge (status=1):\n",
      "STOP: TOTAL NO. of ITERATIONS REACHED LIMIT.\n",
      "\n",
      "Increase the number of iterations (max_iter) or scale the data as shown in:\n",
      "    https://scikit-learn.org/stable/modules/preprocessing.html\n",
      "Please also refer to the documentation for alternative solver options:\n",
      "    https://scikit-learn.org/stable/modules/linear_model.html#logistic-regression\n",
      "  n_iter_i = _check_optimize_result(\n"
     ]
    },
    {
     "name": "stdout",
     "output_type": "stream",
     "text": [
      "0.0816625861699367 0.08141856451558323\n"
     ]
    }
   ],
   "source": [
    "log_reg_12, train_12, test_12 = log_reg_pipeline(feature_names)\n",
    "print(train_12, test_12)"
   ]
  },
  {
   "cell_type": "markdown",
   "metadata": {},
   "source": [
    "### Logistic regression table\n",
    "| Iteration | Features | F1 (training data) | F1 (test data) | Notes |\n",
    "| :---: | :--- | :---: | :---: | :---: |\n",
    "| 1 | <ol><li>LATITUDE</li></ol> | 0.0 | 0.0 | |\n",
    "| 2 | <ol><li>LATITUDE</li><li>LONGITUDE</li></ol> | 0.0 | 0.0 | |\n",
    "| 3 | <ol><li>LATITUDE</li><li>LONGITUDE</li><li>BOROUGH</li></ol> | 0.0 | 0.0 | |\n",
    "| 4 | <ol><li>LATITUDE</li><li>LONGITUDE</li><li>BOROUGH</li><li>SEASON</li></ol> | 0.0 | 0.0 | |\n",
    "| 5 | <ol><li>LATITUDE</li><li>LONGITUDE</li><li>BOROUGH</li><li>SEASON</li><li>WEEKEND</li></ol> | 0.0 | 0.0 | STOP: TOTAL NO. of ITERATIONS REACHED LIMIT. |\n",
    "| 6 | <ol><li>LATITUDE</li><li>LONGITUDE</li><li>BOROUGH</li><li>SEASON</li><li>WEEKEND</li><li>DISTANCE FROM TIMES SQUARE</li></ol> | 0.0 | 0.0 | STOP: TOTAL NO. of ITERATIONS REACHED LIMIT. |\n",
    "| 7 | <ol><li>LATITUDE</li><li>LONGITUDE</li><li>BOROUGH</li><li>SEASON</li><li>WEEKEND</li><li>DISTANCE FROM TIMES SQUARE</li><li>DISTANCE FROM CONEY ISLAND</li></ol> | 0.0 | 0.0 | STOP: TOTAL NO. of ITERATIONS REACHED LIMIT. |\n",
    "| 8 | <ol><li>LATITUDE</li><li>LONGITUDE</li><li>BOROUGH</li><li>SEASON</li><li>WEEKEND</li><li>DISTANCE FROM TIMES SQUARE</li><li>DISTANCE FROM CONEY ISLAND</li><li>DURING DAYTIME</li></ol> | 0.0 | 0.0 | STOP: TOTAL NO. of ITERATIONS REACHED LIMIT. |\n",
    "| 9 | <ol><li>LATITUDE</li><li>LONGITUDE</li><li>BOROUGH</li><li>SEASON</li><li>WEEKEND</li><li>DISTANCE FROM TIMES SQUARE</li><li>DISTANCE FROM CONEY ISLAND</li><li>DURING DAYTIME</li><li>WEEKDAY</li></ol> | 0.0 | 0.0 | STOP: TOTAL NO. of ITERATIONS REACHED LIMIT. |\n",
    "| 10 | <ol><li>LATITUDE</li><li>LONGITUDE</li><li>BOROUGH</li><li>SEASON</li><li>WEEKEND</li><li>DISTANCE FROM TIMES SQUARE</li><li>DISTANCE FROM CONEY ISLAND</li><li>DURING DAYTIME</li><li>WEEKDAY</li><li>CONTRIBUTING FACTOR VEHICLE 1</li></ol> | 0.0744 | 0.0733 | STOP: TOTAL NO. of ITERATIONS REACHED LIMIT. |\n",
    "| 11 | <ol><li>LATITUDE</li><li>LONGITUDE</li><li>BOROUGH</li><li>SEASON</li><li>WEEKEND</li><li>DISTANCE FROM TIMES SQUARE</li><li>DISTANCE FROM CONEY ISLAND</li><li>DURING DAYTIME</li><li>WEEKDAY</li><li>CONTRIBUTING FACTOR VEHICLE 1</li><li>NUMBER OF MOTORIST KILLED</li></ol> | 0.0740 | 0.0730 | STOP: TOTAL NO. of ITERATIONS REACHED LIMIT. |\n",
    "| 12 | <ol><li>LATITUDE</li><li>LONGITUDE</li><li>BOROUGH</li><li>SEASON</li><li>WEEKEND</li><li>DISTANCE FROM TIMES SQUARE</li><li>DISTANCE FROM CONEY ISLAND</li><li>DURING DAYTIME</li><li>WEEKDAY</li><li>CONTRIBUTING FACTOR VEHICLE 1</li><li>NUMBER OF MOTORIST KILLED</li><li>NUMBER OF MOTORIST INJURED</li></ol> | 0.0817 | 0.0814 | STOP: TOTAL NO. of ITERATIONS REACHED LIMIT. |"
   ]
  }
 ],
 "metadata": {
  "kernelspec": {
   "display_name": "Python 3",
   "language": "python",
   "name": "python3"
  },
  "language_info": {
   "codemirror_mode": {
    "name": "ipython",
    "version": 3
   },
   "file_extension": ".py",
   "mimetype": "text/x-python",
   "name": "python",
   "nbconvert_exporter": "python",
   "pygments_lexer": "ipython3",
   "version": "3.8.3"
  }
 },
 "nbformat": 4,
 "nbformat_minor": 4
}
